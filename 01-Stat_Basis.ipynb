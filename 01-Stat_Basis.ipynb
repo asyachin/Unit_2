{
 "cells": [
  {
   "cell_type": "code",
   "execution_count": 32,
   "metadata": {},
   "outputs": [],
   "source": [
    "import pandas as pd\n",
    "import numpy as np\n",
    "import matplotlib.pyplot as plt\n",
    "import seaborn as sns\n",
    "%matplotlib inline\n",
    "\n",
    "df = pd.DataFrame({\n",
    "    'men': [80.2, 80.8, 57.5, 98, 50.5, 73.8, 77.4, 59.7, 77.9, 52.6],\n",
    "    'women': [57.9, 57.3, 72.8, 48.2, 59.5, 48.3, 61.2, 53.9, 53.9, 70.7]\n",
    "})"
   ]
  },
  {
   "cell_type": "markdown",
   "metadata": {},
   "source": [
    "## Задание 1.5.1\n",
    "\n",
    "Задача с использованием Python\n",
    "С помощью Python мы можем найти среднее значение списка, просто используя функцию mean(). Единственный аргумент этой функции — список данных, на котором необходимо посчитать значение.\n",
    "\n",
    "В таблице выше представлен ряд данных о весе 20 случайно выбранных клиентов медицинской клиники — 10 мужчин и 10 женщин (в кг). Скопируйте датафрейм, который описывают нашу таблицу, в свой ноутбук и выполните задание."
   ]
  },
  {
   "cell_type": "markdown",
   "metadata": {},
   "source": [
    "Средний вес мужчины в данной выборке превышает средний вес женщины на ______ кг.\n",
    "\n",
    "Введите значение, округлив до 1 знака после точки-разделителя."
   ]
  },
  {
   "cell_type": "code",
   "execution_count": 20,
   "metadata": {},
   "outputs": [
    {
     "name": "stdout",
     "output_type": "stream",
     "text": [
      "Средний вес мужчины в данной выборке превышает средний вес женщины на 12.5 кг\n"
     ]
    }
   ],
   "source": [
    "\n",
    "print(\"Средний вес мужчины в данной выборке превышает средний вес женщины на {:0.1f} кг\".\n",
    "      format(df.men.mean() - df.women.mean()))"
   ]
  },
  {
   "cell_type": "markdown",
   "metadata": {},
   "source": [
    "## Задание 1.5.2\n",
    "\n",
    "Дано два набора данных: 2,7,4,3,6,4,1,2 и 5,2,4,8,1,6,7 \n",
    "Медиана в первом наборе данных равна _____. (введите значение с точкой в качестве разделителя)"
   ]
  },
  {
   "cell_type": "code",
   "execution_count": 39,
   "metadata": {},
   "outputs": [
    {
     "name": "stdout",
     "output_type": "stream",
     "text": [
      "Медиана в первом наборе данных равна 3.5\n",
      "Это на 1.5 меньше медианы во втором наборе данных.\n"
     ]
    }
   ],
   "source": [
    "m1 = np.median([2,7,4,3,6,4,1,2])\n",
    "m2 = np.median([5,2,4,8,1,6,7])\n",
    "print (\"Медиана в первом наборе данных равна {:0.1f}\".format(m1))\n",
    "print (\"Это на {:0.1f} меньше медианы во втором наборе данных.\".format(m2-m1))"
   ]
  },
  {
   "cell_type": "markdown",
   "metadata": {},
   "source": [
    "## Задание 1.5.3\n",
    "Следуя описанному в теоретической части алгоритму, мы можем написать вычисление медианы в Python по аналогии со средним арифметическим. Для этого нам понадобится функция median().\n",
    "\n",
    "Используя median(), найдем медиану списка данных, применив функцию ко всему датафрейму или по отдельности для каждой серии.\n",
    "\n",
    "Вспоминаем выборку из 20 пациентов."
   ]
  },
  {
   "cell_type": "code",
   "execution_count": 69,
   "metadata": {},
   "outputs": [],
   "source": [
    "df = pd.DataFrame({\n",
    "    'men': [80.2, 80.8, 57.5, 98, 50.5, 73.8, 77.4, 59.7, 77.9, 52.6],\n",
    "    'women': [57.9, 57.3, 72.8, 48.2, 59.5, 48.3, 61.2, 53.9, 53.9, 70.7]\n",
    "})"
   ]
  },
  {
   "cell_type": "markdown",
   "metadata": {},
   "source": [
    "Медианный вес среди мужчин (введите значение с точкой в качестве разделителя):"
   ]
  },
  {
   "cell_type": "code",
   "execution_count": 42,
   "metadata": {},
   "outputs": [
    {
     "data": {
      "text/plain": [
       "75.6"
      ]
     },
     "execution_count": 42,
     "metadata": {},
     "output_type": "execute_result"
    }
   ],
   "source": [
    "df.men.median()"
   ]
  },
  {
   "cell_type": "markdown",
   "metadata": {},
   "source": [
    "Медианный вес среди женщин (введите значение с точкой в качестве разделителя):"
   ]
  },
  {
   "cell_type": "code",
   "execution_count": 45,
   "metadata": {},
   "outputs": [
    {
     "data": {
      "text/plain": [
       "57.6"
      ]
     },
     "execution_count": 45,
     "metadata": {},
     "output_type": "execute_result"
    }
   ],
   "source": [
    "round(df.women.median(),1)"
   ]
  },
  {
   "cell_type": "code",
   "execution_count": 75,
   "metadata": {},
   "outputs": [
    {
     "data": {
      "text/plain": [
       "59.6"
      ]
     },
     "execution_count": 75,
     "metadata": {},
     "output_type": "execute_result"
    }
   ],
   "source": [
    "df\n",
    "dff = np.vstack((df.men, df.women)).flatten()\n",
    "np.median(dff)\n"
   ]
  },
  {
   "cell_type": "code",
   "execution_count": null,
   "metadata": {},
   "outputs": [],
   "source": []
  }
 ],
 "metadata": {
  "kernelspec": {
   "display_name": "Python 3",
   "language": "python",
   "name": "python3"
  },
  "language_info": {
   "codemirror_mode": {
    "name": "ipython",
    "version": 3
   },
   "file_extension": ".py",
   "mimetype": "text/x-python",
   "name": "python",
   "nbconvert_exporter": "python",
   "pygments_lexer": "ipython3",
   "version": "3.8.5"
  }
 },
 "nbformat": 4,
 "nbformat_minor": 4
}
