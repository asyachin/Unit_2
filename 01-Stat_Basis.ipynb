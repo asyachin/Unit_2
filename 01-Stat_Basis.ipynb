{
 "cells": [
  {
   "cell_type": "code",
   "execution_count": 80,
   "metadata": {},
   "outputs": [],
   "source": [
    "import pandas as pd\n",
    "import numpy as np\n",
    "import matplotlib.pyplot as plt\n",
    "import seaborn as sns\n",
    "%matplotlib inline\n",
    "\n",
    "df = pd.DataFrame({\n",
    "    'men': [80.2, 80.8, 57.5, 98, 50.5, 73.8, 77.4, 59.7, 77.9, 52.6],\n",
    "    'women': [57.9, 57.3, 72.8, 48.2, 59.5, 48.3, 61.2, 53.9, 53.9, 70.7]\n",
    "})"
   ]
  },
  {
   "cell_type": "markdown",
   "metadata": {},
   "source": [
    "## Задание 1.5.1\n",
    "\n",
    "Задача с использованием Python\n",
    "С помощью Python мы можем найти среднее значение списка, просто используя функцию mean(). Единственный аргумент этой функции — список данных, на котором необходимо посчитать значение.\n",
    "\n",
    "В таблице выше представлен ряд данных о весе 20 случайно выбранных клиентов медицинской клиники — 10 мужчин и 10 женщин (в кг). Скопируйте датафрейм, который описывают нашу таблицу, в свой ноутбук и выполните задание."
   ]
  },
  {
   "cell_type": "markdown",
   "metadata": {},
   "source": [
    "Средний вес мужчины в данной выборке превышает средний вес женщины на ______ кг.\n",
    "\n",
    "Введите значение, округлив до 1 знака после точки-разделителя."
   ]
  },
  {
   "cell_type": "code",
   "execution_count": 81,
   "metadata": {},
   "outputs": [
    {
     "name": "stdout",
     "output_type": "stream",
     "text": [
      "Средний вес мужчины в данной выборке превышает средний вес женщины на 12.5 кг\n"
     ]
    }
   ],
   "source": [
    "\n",
    "print(\"Средний вес мужчины в данной выборке превышает средний вес женщины на {:0.1f} кг\".\n",
    "      format(df.men.mean() - df.women.mean()))"
   ]
  },
  {
   "cell_type": "markdown",
   "metadata": {},
   "source": [
    "## Задание 1.5.2\n",
    "\n",
    "Дано два набора данных: 2,7,4,3,6,4,1,2 и 5,2,4,8,1,6,7 \n",
    "Медиана в первом наборе данных равна _____. (введите значение с точкой в качестве разделителя)"
   ]
  },
  {
   "cell_type": "code",
   "execution_count": 82,
   "metadata": {},
   "outputs": [
    {
     "name": "stdout",
     "output_type": "stream",
     "text": [
      "Медиана в первом наборе данных равна 3.5\n",
      "Это на 1.5 меньше медианы во втором наборе данных.\n"
     ]
    }
   ],
   "source": [
    "m1 = np.median([2,7,4,3,6,4,1,2])\n",
    "m2 = np.median([5,2,4,8,1,6,7])\n",
    "print (\"Медиана в первом наборе данных равна {:0.1f}\".format(m1))\n",
    "print (\"Это на {:0.1f} меньше медианы во втором наборе данных.\".format(m2-m1))"
   ]
  },
  {
   "cell_type": "markdown",
   "metadata": {},
   "source": [
    "## Задание 1.5.3\n",
    "Следуя описанному в теоретической части алгоритму, мы можем написать вычисление медианы в Python по аналогии со средним арифметическим. Для этого нам понадобится функция median().\n",
    "\n",
    "Используя median(), найдем медиану списка данных, применив функцию ко всему датафрейму или по отдельности для каждой серии.\n",
    "\n",
    "Вспоминаем выборку из 20 пациентов."
   ]
  },
  {
   "cell_type": "code",
   "execution_count": 83,
   "metadata": {},
   "outputs": [],
   "source": [
    "df = pd.DataFrame({\n",
    "    'men': [80.2, 80.8, 57.5, 98, 50.5, 73.8, 77.4, 59.7, 77.9, 52.6],\n",
    "    'women': [57.9, 57.3, 72.8, 48.2, 59.5, 48.3, 61.2, 53.9, 53.9, 70.7]\n",
    "})"
   ]
  },
  {
   "cell_type": "markdown",
   "metadata": {},
   "source": [
    "Медианный вес среди мужчин (введите значение с точкой в качестве разделителя):"
   ]
  },
  {
   "cell_type": "code",
   "execution_count": 84,
   "metadata": {},
   "outputs": [
    {
     "data": {
      "text/plain": "75.6"
     },
     "execution_count": 84,
     "metadata": {},
     "output_type": "execute_result"
    }
   ],
   "source": [
    "df.men.median()"
   ]
  },
  {
   "cell_type": "markdown",
   "metadata": {},
   "source": [
    "Медианный вес среди женщин (введите значение с точкой в качестве разделителя):"
   ]
  },
  {
   "cell_type": "code",
   "execution_count": 85,
   "metadata": {},
   "outputs": [
    {
     "data": {
      "text/plain": "57.6"
     },
     "execution_count": 85,
     "metadata": {},
     "output_type": "execute_result"
    }
   ],
   "source": [
    "round(df.women.median(),1)"
   ]
  },
  {
   "cell_type": "code",
   "execution_count": 86,
   "metadata": {},
   "outputs": [
    {
     "data": {
      "text/plain": "59.6"
     },
     "execution_count": 86,
     "metadata": {},
     "output_type": "execute_result"
    }
   ],
   "source": [
    "df\n",
    "dff = np.vstack((df.men, df.women)).flatten()\n",
    "np.median(dff)\n"
   ]
  },
  {
   "cell_type": "markdown",
   "metadata": {
    "pycharm": {
     "name": "#%% md\n"
    }
   },
   "source": [
    "# 1.6. Квартили\n",
    "\n",
    "## Задание 1.6.1\n",
    "Возьмём два знакомых нам по третьей задаче набора данных:\n"
   ]
  },
  {
   "cell_type": "code",
   "execution_count": 87,
   "outputs": [
    {
     "data": {
      "text/plain": "array([1, 2, 2, 3, 4, 4, 6, 7])"
     },
     "metadata": {},
     "output_type": "display_data"
    },
    {
     "data": {
      "text/plain": "array([1, 2, 4, 5, 6, 7, 8])"
     },
     "metadata": {},
     "output_type": "display_data"
    }
   ],
   "source": [
    "m1 = [2,7,4,3,6,4,1,2]\n",
    "m2 = [5,2,4,8,1,6,7]\n",
    "display(np.sort(m1),np.sort(m2))\n"
   ],
   "metadata": {
    "collapsed": false,
    "pycharm": {
     "name": "#%%\n"
    }
   }
  },
  {
   "cell_type": "code",
   "execution_count": 88,
   "outputs": [
    {
     "data": {
      "text/plain": "array([2.1, 4. ])"
     },
     "execution_count": 88,
     "metadata": {},
     "output_type": "execute_result"
    }
   ],
   "source": [
    "np.quantile(m1, q = [0.3, 0.7])\n"
   ],
   "metadata": {
    "collapsed": false,
    "pycharm": {
     "name": "#%%\n"
    }
   }
  },
  {
   "cell_type": "code",
   "execution_count": 89,
   "outputs": [
    {
     "data": {
      "text/plain": "array([3. , 6.5])"
     },
     "execution_count": 89,
     "metadata": {},
     "output_type": "execute_result"
    }
   ],
   "source": [
    "np.quantile(m2, q = [0.25, 0.75])"
   ],
   "metadata": {
    "collapsed": false,
    "pycharm": {
     "name": "#%%\n"
    }
   }
  },
  {
   "cell_type": "markdown",
   "source": [
    "Ответ\n",
    "Верно:Упорядочим значения в первом наборе данных: 1, 2, 2, 3, 4, 4, 6, 7. Медиана находится между 3 и 4.\n",
    "Значит, нижняя половина данных: 1, 2, 2, 3 , и верхняя половина данных: 4, 4, 6, 7 .\n",
    "В каждой половине n=4 наблюдений, значит нижний и верхний квартиль находятся между 2 и 3\n",
    "наблюдениями в нижней и верхней части данных, соответственно.\n",
    "Вторая выборка записана по возрастанию: 1, 2, 4, 5, 6, 7, 8 .\n",
    "Медиана равна 5 и делит данные на 2 части: 1, 2, 4 и 6, 7, 8 . В каждой части n=3 наблюдений,\n",
    " значит нижний и верхний квартиль равны второму наблюдению в нижней и верхней части данных\n",
    " соответственно."
   ],
   "metadata": {
    "collapsed": false,
    "pycharm": {
     "name": "#%% md\n"
    }
   }
  },
  {
   "cell_type": "markdown",
   "source": [
    "# ВЫЧИСЛЯЕМ КВАРТИЛИ В PYTHON\n",
    "\n",
    "Для вычисления квартилей в pandas используется функция quantile(). Она возвращает значение в заданном квартиле. Значение квартиля задается в диапазоне от [0,...1]. Например, для нижнего квартиля это значение равно , для верхнего — .\n",
    "\n",
    "Также у quantile()  существует необязательный параметр, который  указывает метод интерполяции, который нужно использовать, когда требуемый квантиль лежит между двумя точками данных. По умолчанию используется линейная интерполяция.\n",
    "#### DataFrame.quantile(q=0.5, axis=0, numeric_only=True, interpolation='linear')\n",
    "\n",
    "\n"
   ],
   "metadata": {
    "collapsed": false,
    "pycharm": {
     "name": "#%% md\n"
    }
   }
  },
  {
   "cell_type": "markdown",
   "source": [
    "Чтобы вычислять квантиль как среднее между двумя точками в части данных, необходимо сменить вид интерполяции на следующий:\n",
    "#### DataFrame.quantile(q=0.5, axis=0, numeric_only=True, interpolation='midpoint')"
   ],
   "metadata": {
    "collapsed": false,
    "pycharm": {
     "name": "#%% md\n"
    }
   }
  },
  {
   "cell_type": "code",
   "execution_count": 90,
   "outputs": [],
   "source": [
    "df = pd.DataFrame({\n",
    "    'men': [80, 80.8, 57.5, 98, 50.5, 73.8, 77.4, 59.7, 77.9, 52.6],\n",
    "    'women': [57.9, 57.3, 72.8, 48.2, 59.5, 48.3, 61.2, 53.9, 53.9, 70.7]\n",
    "})\n"
   ],
   "metadata": {
    "collapsed": false,
    "pycharm": {
     "name": "#%%\n"
    }
   }
  },
  {
   "cell_type": "markdown",
   "source": [
    "## Задание 1.7.1\n",
    "5 points possible (graded)\n",
    "Найдите Q1 и Q3 для мужчин и женщин, используя Python (выпишите результат, округляя до 1 знака после точки-разделителя):\n",
    "\n",
    "Для того, чтобы округлить до 1 знака после точки-разделителя, используйте round(value, 1), где value — это число для округления.\n"
   ],
   "metadata": {
    "collapsed": false,
    "pycharm": {
     "name": "#%% md\n"
    }
   }
  },
  {
   "cell_type": "code",
   "execution_count": 91,
   "outputs": [
    {
     "name": "stdout",
     "output_type": "stream",
     "text": [
      "0.25    58.6\n",
      "0.75    79.0\n",
      "Name: men, dtype: float64 0.25    53.9\n",
      "0.75    60.4\n",
      "Name: women, dtype: float64\n"
     ]
    }
   ],
   "source": [
    "q_m = round(df.men.quantile(q = [0.25, 0.75], interpolation='midpoint'),1)\n",
    "q_w = round(df.women.quantile(q = [0.25, 0.75], interpolation='midpoint'),1)\n",
    "print(q_m, q_w )"
   ],
   "metadata": {
    "collapsed": false,
    "pycharm": {
     "name": "#%%\n"
    }
   }
  },
  {
   "cell_type": "markdown",
   "source": [
    "# 1.8. Меры разброса\n",
    "## Задание 1.9.1\n",
    "Найдите размах и межквартильный размах для веса на выборке пациентов клиники.\n",
    "Для удобства вычисления размаха можете использовать стандартные функции min(), max() для серий в pandas.\n",
    "Также используйте знания о функции quantile() для вычисления межквартильного размаха.\n",
    "Используйте ранее приведенный параметр интерполяции для вычислени квартилей в pandas.\n"
   ],
   "metadata": {
    "collapsed": false,
    "pycharm": {
     "name": "#%% md\n"
    }
   }
  },
  {
   "cell_type": "code",
   "execution_count": 92,
   "outputs": [],
   "source": [
    "import pandas as pd\n",
    "df = pd.DataFrame({\n",
    "    'men': [80.2, 80.8, 57.5, 98, 50.5, 73.8, 77.4, 59.7, 77.9, 52.6],\n",
    "    'women': [57.9, 57.3, 72.8, 48.2, 59.5, 48.3, 61.2, 53.9, 53.9, 70.7]\n",
    "})"
   ],
   "metadata": {
    "collapsed": false,
    "pycharm": {
     "name": "#%%\n"
    }
   }
  },
  {
   "cell_type": "code",
   "execution_count": 108,
   "outputs": [
    {
     "name": "stdout",
     "output_type": "stream",
     "text": [
      "47.5 20.5\n",
      "24.6 6.5\n"
     ]
    }
   ],
   "source": [
    "x_m = df.men.max() - df.men.min() #размах выборки по весу мужчин\n",
    "x_w = df.women.max() -df.women.min() #размах выборки по весу женщин\n",
    "\n",
    "IQR_M = df.men.quantile(q = 0.75, interpolation='midpoint') - df.men.quantile(q = 0.25, interpolation='midpoint')\n",
    "IQR_W = df.women.quantile(q = 0.75, interpolation='midpoint') - df.women.quantile(q = 0.25, interpolation='midpoint')\n",
    "\n",
    "print(round(x_m,1),round(IQR_M,1))\n",
    "print(round(x_w,1),round(IQR_W,1))"
   ],
   "metadata": {
    "collapsed": false,
    "pycharm": {
     "name": "#%%\n"
    }
   }
  },
  {
   "cell_type": "markdown",
   "source": [
    "## Задание 1.9.2\n",
    "\n",
    "Вычисляем стандартное отклонение в Python\n",
    "Для вычисления стандартного отклонения в выборке в Python используется функция std().\n",
    "Единственным аргументом функции является диапазон данных. В данном случае диапазоном данных может выступать как серия pandas,\n",
    "так и весь датафрейм целиком. Aналогично для вычисления дисперсии используется функция var().\n",
    "\n",
    "Задание: Найдите дисперсию и стандартное отклонение веса для выборки пациентов клиники.\n",
    "Выпишите результат, округляя до 1 знака после точки-разделителя:\n"
   ],
   "metadata": {
    "collapsed": false,
    "pycharm": {
     "name": "#%% md\n"
    }
   }
  },
  {
   "cell_type": "code",
   "execution_count": 116,
   "outputs": [
    {
     "name": "stdout",
     "output_type": "stream",
     "text": [
      "Стандартное отклонение веса для мужчин 15.2 кг\n",
      "Дисперсия по весу для мужчин 230.5\n",
      "Стандартное отклонение веса для женщин 8.3 кг\n",
      "Дисперсия по весу для женщин 68.4\n"
     ]
    }
   ],
   "source": [
    "d_m = round(df.men.std(),1)\n",
    "d_w = round(df.women.std(),1)\n",
    "di_m = round(df.men.var(),1)\n",
    "di_w = round(df.women.var(),1)\n",
    "print(\"Стандартное отклонение веса для мужчин {:0.1f} кг\".format(d_m))\n",
    "print(\"Дисперсия по весу для мужчин {:0.1f}\".format(di_m))\n",
    "print(\"Стандартное отклонение веса для женщин {:0.1f} кг\".format(d_w))\n",
    "print(\"Дисперсия по весу для женщин {:0.1f}\".format(di_w))"
   ],
   "metadata": {
    "collapsed": false,
    "pycharm": {
     "name": "#%%\n"
    }
   }
  },
  {
   "cell_type": "code",
   "execution_count": null,
   "outputs": [],
   "source": [],
   "metadata": {
    "collapsed": false,
    "pycharm": {
     "name": "#%%\n"
    }
   }
  }
 ],
 "metadata": {
  "kernelspec": {
   "display_name": "Python 3",
   "language": "python",
   "name": "python3"
  },
  "language_info": {
   "codemirror_mode": {
    "name": "ipython",
    "version": 3
   },
   "file_extension": ".py",
   "mimetype": "text/x-python",
   "name": "python",
   "nbconvert_exporter": "python",
   "pygments_lexer": "ipython3",
   "version": "3.8.5"
  }
 },
 "nbformat": 4,
 "nbformat_minor": 4
}