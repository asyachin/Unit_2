{
 "cells": [
  {
   "cell_type": "markdown",
   "metadata": {},
   "source": [
    "# STAT&BASIC-2. Основные понятия математической статистики на Python"
   ]
  },
  {
   "cell_type": "code",
   "execution_count": 25,
   "metadata": {},
   "outputs": [],
   "source": [
    "import pandas as pd"
   ]
  },
  {
   "cell_type": "code",
   "execution_count": 26,
   "outputs": [],
   "source": [
    "df = pd.DataFrame({\n",
    "'X':[2,3,4,5],\n",
    "'P':[0.1,0.2,0.6,0.1]\n",
    "})"
   ],
   "metadata": {
    "collapsed": false,
    "pycharm": {
     "name": "#%%\n"
    }
   }
  },
  {
   "cell_type": "code",
   "execution_count": 27,
   "outputs": [
    {
     "name": "stdout",
     "output_type": "stream",
     "text": [
      "1.7, 1.3\n"
     ]
    }
   ],
   "source": [
    "print(\"{:0.1f}, {:0.1f}\". format(df.X.var(), df.X.std()))"
   ],
   "metadata": {
    "collapsed": false,
    "pycharm": {
     "name": "#%%\n"
    }
   }
  },
  {
   "cell_type": "markdown",
   "source": [
    "## Задание 2.8.1\n",
    "4 points possible (graded)\n",
    " — стандартная нормальная величина. Используя функцию norm.cdf(), найдите ниже указанные значения. Ответ округлите до 2 знаков после разделительной точки.\n",
    "\n"
   ],
   "metadata": {
    "collapsed": false,
    "pycharm": {
     "name": "#%% md\n"
    }
   }
  },
  {
   "cell_type": "code",
   "execution_count": 28,
   "outputs": [
    {
     "data": {
      "text/plain": "0.98"
     },
     "execution_count": 28,
     "metadata": {},
     "output_type": "execute_result"
    }
   ],
   "source": [
    "from scipy.stats import norm\n",
    "round(norm.cdf(2),2)"
   ],
   "metadata": {
    "collapsed": false,
    "pycharm": {
     "name": "#%%\n"
    }
   }
  },
  {
   "cell_type": "markdown",
   "source": [
    "Как находить вероятности и значения для любой нормальной величины?\n",
    "Таким же образом при помощи Python можно находить вероятности и значения для любой нормальной величины, а не только , если известны ее параметры: среднее и стандартное отклонение. Для этого есть функции norm.cdf(x, loc = 0, scale = 1) и norm.ppf(q, loc = 0, scale = 1).\n",
    "\n",
    "norm.cdf(x, loc = 0, scale = 1)\n",
    "Возвращает нормальную функцию распределения для указанного среднего и стандартного отклонения.\n",
    "\n",
    "Синтаксис\n",
    "x — значение, для которого строится распределение\n",
    "loc — среднее арифметическое распределения\n",
    "scale — стандартное отклонение распределения\n",
    "norm.ppf(q, loc = 0, scale = 1)\n",
    "Возвращает обратное нормальное распределение для указанного среднего и стандартного отклонения.\n",
    "\n",
    "Синтаксис\n",
    "q — вероятность, соответствующая нормальному распределению\n",
    "loc — среднее арифметическое распределения\n",
    "scale — стандартное отклонение распределения\n",
    "\n"
   ],
   "metadata": {
    "collapsed": false,
    "pycharm": {
     "name": "#%% md\n"
    }
   }
  },
  {
   "cell_type": "markdown",
   "source": [
    "## Задание 2.8.2\n",
    "5 points possible (graded)\n",
    "Используя функцию norm.ppf(), найдите число .\n",
    "\n",
    "Ответ округлите до 2 знаков после разделительной точки:\n",
    "\n",
    "P(Z>c)=0.1\n"
   ],
   "metadata": {
    "collapsed": false,
    "pycharm": {
     "name": "#%% md\n",
     "is_executing": true
    }
   }
  },
  {
   "cell_type": "code",
   "execution_count": 29,
   "outputs": [
    {
     "data": {
      "text/plain": "-2.58"
     },
     "execution_count": 29,
     "metadata": {},
     "output_type": "execute_result"
    }
   ],
   "source": [
    "round(norm.ppf(0.005),2)"
   ],
   "metadata": {
    "collapsed": false,
    "pycharm": {
     "name": "#%%\n"
    }
   }
  },
  {
   "cell_type": "markdown",
   "source": [
    "С выборкой точно так же. Чем больше выборка, тем ближе (по центральной предельной теореме) распределение к нормальному.\n",
    "\n",
    "Тем не менее для удобства, чтобы мы точно знали, когда мы имеем право использовать центральную предельную теорему, давайте придерживаться одного простого правила.\n",
    "\n",
    "Мы будем использовать нормальное распределение для выборочного среднего, если количество наблюдений в выборке хотя бы \\(30\\). \\[\\bar{X}:n\\geq 30\\]\n",
    "Мы будем использовать нормальное распределение для выборочной пропорции, если удовлетворяются оба условия: \\[\\hat{p}:n\\hat{p}\\geq 5, n(1-\\hat{p})\\geq 5\\]\n",
    "Почему требования для среднего и пропорции оказались разными?\n",
    "Дело в том, что требование достаточно большой выборки для пропорции сильно зависит от самой величины этой пропорции.\n",
    "\n",
    "Приведем пример.\n",
    "\n",
    "Если мы хотим оценить пропорцию орлов при подбрасывании монетки (эта пропорция равна \\(50\\)%), то даже если мы всего \\(10\\) раз подбросим монетку, мы ожидаем примерно \\(5\\) орлов, и отклонение в одно-два подбрасывания нас не сильно беспокоит.\n",
    "\n",
    "Однако если нас интересует пропорция людей с каким-либо редким заболеванием (вероятность которого составляет, скажем, \\(0.005%\\)), выборки в \\(10\\) или в \\(100\\) людей явно будет недостаточно. В этом случае нам нужна будет по-настоящему большая выборка для оценки пропорции. Отсюда и появились условия для пропорции: в выборке нам нужно хотя бы пять успехов и хотя бы пять неуспехов, чтобы осмысленно оценить пропорцию.\n",
    "\n",
    "\n",
    "\n"
   ],
   "metadata": {
    "collapsed": false,
    "pycharm": {
     "name": "#%% md\n"
    }
   }
  },
  {
   "cell_type": "markdown",
   "source": [
    "## Задание 2.10.1\n",
    "\n",
    "Известно, что вес жителя Гонконга распределен нормально со средним в \\(70\\) кг и стандартным отклонением \\(5\\) кг. Лифт в одном бизнес-центре может поднять не более \\(375\\) кг. Также на нем указана вместимость не более \\(5\\) человек. Другими словами, если \\(5\\) человек входят в лифт, их средний вес не должен превысить \\(75\\) кг (как \\(375/5\\)).\n",
    "\n",
    "Какова вероятность, что средний вес случайно подошедших к лифту \\(5\\) человек превысит \\(75\\) кг и не позволит лифту подняться? Укажите ответ в виде десяточной дроби с 3 знаками после точки-разделителя."
   ],
   "metadata": {
    "collapsed": false,
    "pycharm": {
     "name": "#%% md\n"
    }
   }
  },
  {
   "cell_type": "code",
   "execution_count": 35,
   "outputs": [
    {
     "data": {
      "text/plain": "0.013"
     },
     "execution_count": 35,
     "metadata": {},
     "output_type": "execute_result"
    }
   ],
   "source": [
    "round(1-norm.cdf(75,70,2.236),3)\n"
   ],
   "metadata": {
    "collapsed": false,
    "pycharm": {
     "name": "#%%\n"
    }
   }
  },
  {
   "cell_type": "markdown",
   "source": [
    "## Задание 2.10.2\n",
    "Известно, что 20 % взрослого населения в городе Пало Альто, Калифорния, обладают машиной Tesla (другими словами,\n",
    " p, истинная пропорция обладателей Tesla в городе равна 20%). Допустим, вы берете выборку из 225 взрослых людей\n",
    " из Пало Альто. Какова вероятность, что выборочная пропорция не превысит 16 % (то есть вероятность что p<=0.16 )?\n",
    "\n",
    "Укажите ответ в виде десяточной дроби с 3 знаками после точки-разделителя.\n"
   ],
   "metadata": {
    "collapsed": false,
    "pycharm": {
     "name": "#%% md\n"
    }
   }
  },
  {
   "cell_type": "code",
   "source": [
    "round(norm.cdf(0.16,0.2,0.027),3)\n"
   ],
   "metadata": {
    "collapsed": false,
    "pycharm": {
     "name": "#%%\n"
    }
   },
   "execution_count": 55,
   "outputs": [
    {
     "data": {
      "text/plain": "0.069"
     },
     "execution_count": 55,
     "metadata": {},
     "output_type": "execute_result"
    }
   ]
  },
  {
   "cell_type": "markdown",
   "source": [
    "## Задание 2.11.4\n",
    "0/3 points (graded)\n",
    "Оценки студентов на международной онлайн олимпиаде распределены нормально со средним 700 баллов и стандартным отклонением 120 баллов. Диплом первой категории выдается участникам, набравшим более 820 баллов. Диплом второй категории — участникам, набравшим от 730 до 820 баллов. Для решения задачи используйте функции norm.cdf() и norm.ppf() из пакета scipy.stats.#%%\n",
    "\n",
    "1. Какая доля участников получает диплом 1 категории? Ответ укажите с округлением до 2 знаков после точки-разделителя."
   ],
   "metadata": {
    "collapsed": false,
    "pycharm": {
     "name": "#%% md\n"
    }
   }
  },
  {
   "cell_type": "code",
   "execution_count": 70,
   "outputs": [
    {
     "data": {
      "text/plain": "0.16"
     },
     "execution_count": 70,
     "metadata": {},
     "output_type": "execute_result"
    }
   ],
   "source": [
    "round(1-norm.cdf(820,700,120),2)\n"
   ],
   "metadata": {
    "collapsed": false,
    "pycharm": {
     "name": "#%%\n"
    }
   }
  },
  {
   "cell_type": "markdown",
   "source": [
    "2. Какая доля участников получает диплом 2 категории?\n",
    "Ответ укажите с округлением до 2 знаков после точки-разделителя.\n",
    "\n",
    " "
   ],
   "metadata": {
    "collapsed": false,
    "pycharm": {
     "name": "#%% md\n"
    }
   }
  },
  {
   "cell_type": "code",
   "execution_count": 73,
   "outputs": [
    {
     "data": {
      "text/plain": "0.4"
     },
     "execution_count": 73,
     "metadata": {},
     "output_type": "execute_result"
    }
   ],
   "source": [
    "round(1-norm.cdf(730,700,120),2) "
   ],
   "metadata": {
    "collapsed": false,
    "pycharm": {
     "name": "#%%\n"
    }
   }
  },
  {
   "cell_type": "code",
   "execution_count": null,
   "outputs": [],
   "source": [],
   "metadata": {
    "collapsed": false,
    "pycharm": {
     "name": "#%%\n"
    }
   }
  }
 ],
 "metadata": {
  "kernelspec": {
   "display_name": "Python 3",
   "language": "python",
   "name": "python3"
  },
  "language_info": {
   "codemirror_mode": {
    "name": "ipython",
    "version": 3
   },
   "file_extension": ".py",
   "mimetype": "text/x-python",
   "name": "python",
   "nbconvert_exporter": "python",
   "pygments_lexer": "ipython3",
   "version": "3.8.5"
  }
 },
 "nbformat": 4,
 "nbformat_minor": 4
}