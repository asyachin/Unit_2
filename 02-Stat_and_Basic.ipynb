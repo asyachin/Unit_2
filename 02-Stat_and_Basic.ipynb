{
 "cells": [
  {
   "cell_type": "markdown",
   "metadata": {},
   "source": [
    "# STAT&BASIC-2. Основные понятия математической статистики на Python"
   ]
  },
  {
   "cell_type": "code",
   "execution_count": 2,
   "metadata": {},
   "outputs": [],
   "source": [
    "import pandas as pd\n",
    "import numpy as np"
   ]
  },
  {
   "cell_type": "code",
   "execution_count": 3,
   "outputs": [],
   "source": [
    "df = pd.DataFrame({\n",
    "'X':[2,3,4,5],\n",
    "'P':[0.1,0.2,0.6,0.1]\n",
    "})"
   ],
   "metadata": {
    "collapsed": false,
    "pycharm": {
     "name": "#%%\n"
    }
   }
  },
  {
   "cell_type": "code",
   "execution_count": 4,
   "outputs": [
    {
     "name": "stdout",
     "output_type": "stream",
     "text": [
      "1.7, 1.3\n"
     ]
    }
   ],
   "source": [
    "print(\"{:0.1f}, {:0.1f}\". format(df.X.var(), df.X.std()))"
   ],
   "metadata": {
    "collapsed": false,
    "pycharm": {
     "name": "#%%\n"
    }
   }
  },
  {
   "cell_type": "markdown",
   "source": [
    "## Задание 2.8.1\n",
    "4 points possible (graded)\n",
    " — стандартная нормальная величина. Используя функцию norm.cdf(), найдите ниже указанные значения. Ответ округлите до 2 знаков после разделительной точки.\n",
    "\n"
   ],
   "metadata": {
    "collapsed": false,
    "pycharm": {
     "name": "#%% md\n"
    }
   }
  },
  {
   "cell_type": "code",
   "execution_count": 5,
   "outputs": [
    {
     "data": {
      "text/plain": "0.98"
     },
     "execution_count": 5,
     "metadata": {},
     "output_type": "execute_result"
    }
   ],
   "source": [
    "from scipy.stats import norm\n",
    "round(norm.cdf(2),2)"
   ],
   "metadata": {
    "collapsed": false,
    "pycharm": {
     "name": "#%%\n"
    }
   }
  },
  {
   "cell_type": "markdown",
   "source": [
    "Как находить вероятности и значения для любой нормальной величины?\n",
    "Таким же образом при помощи Python можно находить вероятности и значения для любой нормальной величины, а не только , если известны ее параметры: среднее и стандартное отклонение. Для этого есть функции norm.cdf(x, loc = 0, scale = 1) и norm.ppf(q, loc = 0, scale = 1).\n",
    "\n",
    "norm.cdf(x, loc = 0, scale = 1)\n",
    "Возвращает нормальную функцию распределения для указанного среднего и стандартного отклонения.\n",
    "\n",
    "Синтаксис\n",
    "x — значение, для которого строится распределение\n",
    "loc — среднее арифметическое распределения\n",
    "scale — стандартное отклонение распределения\n",
    "norm.ppf(q, loc = 0, scale = 1)\n",
    "Возвращает обратное нормальное распределение для указанного среднего и стандартного отклонения.\n",
    "\n",
    "Синтаксис\n",
    "q — вероятность, соответствующая нормальному распределению\n",
    "loc — среднее арифметическое распределения\n",
    "scale — стандартное отклонение распределения\n",
    "\n"
   ],
   "metadata": {
    "collapsed": false,
    "pycharm": {
     "name": "#%% md\n"
    }
   }
  },
  {
   "cell_type": "markdown",
   "source": [
    "## Задание 2.8.2\n",
    "5 points possible (graded)\n",
    "Используя функцию norm.ppf(), найдите число .\n",
    "\n",
    "Ответ округлите до 2 знаков после разделительной точки:\n",
    "\n",
    "P(Z>c)=0.1\n"
   ],
   "metadata": {
    "collapsed": false,
    "pycharm": {
     "name": "#%% md\n",
     "is_executing": true
    }
   }
  },
  {
   "cell_type": "code",
   "execution_count": 6,
   "outputs": [
    {
     "data": {
      "text/plain": "-2.58"
     },
     "execution_count": 6,
     "metadata": {},
     "output_type": "execute_result"
    }
   ],
   "source": [
    "round(norm.ppf(0.005),2)"
   ],
   "metadata": {
    "collapsed": false,
    "pycharm": {
     "name": "#%%\n"
    }
   }
  },
  {
   "cell_type": "markdown",
   "source": [
    "С выборкой точно так же. Чем больше выборка, тем ближе (по центральной предельной теореме) распределение к нормальному.\n",
    "\n",
    "Тем не менее для удобства, чтобы мы точно знали, когда мы имеем право использовать центральную предельную теорему, давайте придерживаться одного простого правила.\n",
    "\n",
    "Мы будем использовать нормальное распределение для выборочного среднего, если количество наблюдений в выборке хотя бы \\(30\\). \\[\\bar{X}:n\\geq 30\\]\n",
    "Мы будем использовать нормальное распределение для выборочной пропорции, если удовлетворяются оба условия: \\[\\hat{p}:n\\hat{p}\\geq 5, n(1-\\hat{p})\\geq 5\\]\n",
    "Почему требования для среднего и пропорции оказались разными?\n",
    "Дело в том, что требование достаточно большой выборки для пропорции сильно зависит от самой величины этой пропорции.\n",
    "\n",
    "Приведем пример.\n",
    "\n",
    "Если мы хотим оценить пропорцию орлов при подбрасывании монетки (эта пропорция равна \\(50\\)%), то даже если мы всего \\(10\\) раз подбросим монетку, мы ожидаем примерно \\(5\\) орлов, и отклонение в одно-два подбрасывания нас не сильно беспокоит.\n",
    "\n",
    "Однако если нас интересует пропорция людей с каким-либо редким заболеванием (вероятность которого составляет, скажем, \\(0.005%\\)), выборки в \\(10\\) или в \\(100\\) людей явно будет недостаточно. В этом случае нам нужна будет по-настоящему большая выборка для оценки пропорции. Отсюда и появились условия для пропорции: в выборке нам нужно хотя бы пять успехов и хотя бы пять неуспехов, чтобы осмысленно оценить пропорцию.\n",
    "\n",
    "\n",
    "\n"
   ],
   "metadata": {
    "collapsed": false,
    "pycharm": {
     "name": "#%% md\n"
    }
   }
  },
  {
   "cell_type": "markdown",
   "source": [
    "## Задание 2.10.1\n",
    "\n",
    "Известно, что вес жителя Гонконга распределен нормально со средним в \\(70\\) кг и стандартным отклонением \\(5\\) кг. Лифт в одном бизнес-центре может поднять не более \\(375\\) кг. Также на нем указана вместимость не более \\(5\\) человек. Другими словами, если \\(5\\) человек входят в лифт, их средний вес не должен превысить \\(75\\) кг (как \\(375/5\\)).\n",
    "\n",
    "Какова вероятность, что средний вес случайно подошедших к лифту \\(5\\) человек превысит \\(75\\) кг и не позволит лифту подняться? Укажите ответ в виде десяточной дроби с 3 знаками после точки-разделителя."
   ],
   "metadata": {
    "collapsed": false,
    "pycharm": {
     "name": "#%% md\n"
    }
   }
  },
  {
   "cell_type": "code",
   "execution_count": 7,
   "outputs": [
    {
     "data": {
      "text/plain": "0.013"
     },
     "execution_count": 7,
     "metadata": {},
     "output_type": "execute_result"
    }
   ],
   "source": [
    "round(1-norm.cdf(75,70,2.236),3)\n"
   ],
   "metadata": {
    "collapsed": false,
    "pycharm": {
     "name": "#%%\n"
    }
   }
  },
  {
   "cell_type": "markdown",
   "source": [
    "## Задание 2.10.2\n",
    "Известно, что 20 % взрослого населения в городе Пало Альто, Калифорния, обладают машиной Tesla (другими словами,\n",
    " p, истинная пропорция обладателей Tesla в городе равна 20%). Допустим, вы берете выборку из 225 взрослых людей\n",
    " из Пало Альто. Какова вероятность, что выборочная пропорция не превысит 16 % (то есть вероятность что p<=0.16 )?\n",
    "\n",
    "Укажите ответ в виде десяточной дроби с 3 знаками после точки-разделителя.\n"
   ],
   "metadata": {
    "collapsed": false,
    "pycharm": {
     "name": "#%% md\n"
    }
   }
  },
  {
   "cell_type": "code",
   "source": [
    "round(norm.cdf(0.16,0.2,0.027),3)\n"
   ],
   "metadata": {
    "collapsed": false,
    "pycharm": {
     "name": "#%%\n"
    }
   },
   "execution_count": 8,
   "outputs": [
    {
     "data": {
      "text/plain": "0.069"
     },
     "execution_count": 8,
     "metadata": {},
     "output_type": "execute_result"
    }
   ]
  },
  {
   "cell_type": "markdown",
   "source": [
    "## Задание 2.11.4\n",
    "0/3 points (graded)\n",
    "Оценки студентов на международной онлайн олимпиаде распределены нормально со средним 700 баллов и стандартным отклонением 120 баллов. Диплом первой категории выдается участникам, набравшим более 820 баллов. Диплом второй категории — участникам, набравшим от 730 до 820 баллов. Для решения задачи используйте функции norm.cdf() и norm.ppf() из пакета scipy.stats.#%%\n",
    "\n",
    "1. Какая доля участников получает диплом 1 категории? Ответ укажите с округлением до 2 знаков после точки-разделителя."
   ],
   "metadata": {
    "collapsed": false,
    "pycharm": {
     "name": "#%% md\n"
    }
   }
  },
  {
   "cell_type": "code",
   "execution_count": 9,
   "outputs": [
    {
     "data": {
      "text/plain": "0.16"
     },
     "execution_count": 9,
     "metadata": {},
     "output_type": "execute_result"
    }
   ],
   "source": [
    "round(1-norm.cdf(820,700,120),2)\n"
   ],
   "metadata": {
    "collapsed": false,
    "pycharm": {
     "name": "#%%\n"
    }
   }
  },
  {
   "cell_type": "markdown",
   "source": [
    "2. Какая доля участников получает диплом 2 категории?\n",
    "Ответ укажите с округлением до 2 знаков после точки-разделителя.\n",
    "\n",
    " "
   ],
   "metadata": {
    "collapsed": false,
    "pycharm": {
     "name": "#%% md\n"
    }
   }
  },
  {
   "cell_type": "code",
   "execution_count": 10,
   "outputs": [
    {
     "data": {
      "text/plain": "0.4"
     },
     "execution_count": 10,
     "metadata": {},
     "output_type": "execute_result"
    }
   ],
   "source": [
    "round(1-norm.cdf(730,700,120),2) "
   ],
   "metadata": {
    "collapsed": false,
    "pycharm": {
     "name": "#%%\n"
    }
   }
  },
  {
   "cell_type": "code",
   "execution_count": 11,
   "outputs": [
    {
     "data": {
      "text/plain": "-1.9599639845400545"
     },
     "execution_count": 11,
     "metadata": {},
     "output_type": "execute_result"
    }
   ],
   "source": [
    "norm.ppf(0.025)"
   ],
   "metadata": {
    "collapsed": false,
    "pycharm": {
     "name": "#%%\n"
    }
   }
  },
  {
   "cell_type": "markdown",
   "source": [
    "# Задание 3.4.1\n",
    "3 points possible (graded)\n",
    "Пришло время самостоятельного решения задачи! Вот наши условия:\n",
    "\n",
    "Аккумуляторный завод производит батарейки, срок службы которых имеет стандартное отклонение 2.4 месяца. Средний срок\n",
    "службы батареек в случайной выборке из 64 штук составил 12.35 месяца. Необходимо построить 90 %-ный доверительный\n",
    "интервал для истинного среднего срока службы производимой батарейки и ответить на вопросы заданий ниже.\n",
    "\n"
   ],
   "metadata": {
    "collapsed": false,
    "pycharm": {
     "name": "#%% md\n"
    }
   }
  },
  {
   "cell_type": "code",
   "execution_count": 12,
   "outputs": [
    {
     "data": {
      "text/plain": "-1.6448536269514729"
     },
     "execution_count": 12,
     "metadata": {},
     "output_type": "execute_result"
    }
   ],
   "source": [
    "norm.ppf(0.05)"
   ],
   "metadata": {
    "collapsed": false,
    "pycharm": {
     "name": "#%%\n"
    }
   }
  },
  {
   "cell_type": "code",
   "execution_count": 13,
   "outputs": [],
   "source": [
    "Z = round(1.64*2.4/8,3) #критическое значение 90 %-ный доверительный интервал"
   ],
   "metadata": {
    "collapsed": false,
    "pycharm": {
     "name": "#%%\n"
    }
   }
  },
  {
   "cell_type": "code",
   "execution_count": 14,
   "outputs": [
    {
     "data": {
      "text/plain": "12.842"
     },
     "execution_count": 14,
     "metadata": {},
     "output_type": "execute_result"
    }
   ],
   "source": [
    "round(12.35+Z,3) #Верхняя граница 90 %-ный доверительный интервал"
   ],
   "metadata": {
    "collapsed": false,
    "pycharm": {
     "name": "#%%\n"
    }
   }
  },
  {
   "cell_type": "code",
   "execution_count": 15,
   "outputs": [
    {
     "data": {
      "text/plain": "11.858"
     },
     "execution_count": 15,
     "metadata": {},
     "output_type": "execute_result"
    }
   ],
   "source": [
    "round(12.35-Z,3) #Нижняя граница 90 %-ный доверительный интервал"
   ],
   "metadata": {
    "collapsed": false,
    "pycharm": {
     "name": "#%%\n"
    }
   }
  },
  {
   "cell_type": "markdown",
   "source": [
    "Управляющий супермаркета хочет оценить, сколько денег покупатели тратят за один поход в супермаркет в среднем. На основании ранее собранных данных известно, что расходы одного покупателя распределены приблизительно нормально. Управляющий взял случайную выборку из 15 покупателей и выяснил, что их средние расходы равны  рублей, а выборочное стандартное отклонение равно  рублей.\n",
    "Давайте поможем управляющему, решив несколько задачек с помощью Python.\n",
    "\n",
    "Напомним, что выражение в формуле доверительного интервала, указанное после знака ± называется пределом погрешности. Предел погрешности можно также найти с помощью Python.\n",
    "\n"
   ],
   "metadata": {
    "collapsed": false,
    "pycharm": {
     "name": "#%% md\n"
    }
   }
  },
  {
   "cell_type": "code",
   "execution_count": 16,
   "outputs": [],
   "source": [
    "# Для случая с известным значением σ предел погрешности и его интервалы\n",
    "from scipy.stats import norm\n",
    "import math\n",
    "\n",
    "def confidence_interval_norm(alpha, sigma, n, mean):\n",
    "    value = -norm.ppf(alpha / 2) * sigma / math.sqrt(n)\n",
    "    return mean - value, mean + value"
   ],
   "metadata": {
    "collapsed": false,
    "pycharm": {
     "name": "#%%\n"
    }
   }
  },
  {
   "cell_type": "code",
   "execution_count": 17,
   "outputs": [],
   "source": [
    "#Для случая с неизвестным  предел погрешности\n",
    "from scipy.stats import t\n",
    "import math\n",
    "\n",
    "def confidence_interval_t(alpha, s, n, mean):\n",
    "    value = -t.ppf(alpha / 2, n - 1) * s / math.sqrt(n)\n",
    "    return mean - value, mean + value\n",
    "\n"
   ],
   "metadata": {
    "collapsed": false,
    "pycharm": {
     "name": "#%%\n"
    }
   }
  },
  {
   "cell_type": "markdown",
   "source": [
    "В обоих случаях:\n",
    "\n",
    "первый аргумент функции — уровень значимости;\n",
    "второй — выборочное отклонение  или  ;\n",
    "третий — размер выборки ;\n",
    "четвертый — среднее значение выборки.\n"
   ],
   "metadata": {
    "collapsed": false,
    "pycharm": {
     "name": "#%% md\n"
    }
   }
  },
  {
   "cell_type": "code",
   "execution_count": 18,
   "outputs": [
    {
     "data": {
      "text/plain": "(1818.092671377004, 2181.907328622996)"
     },
     "execution_count": 18,
     "metadata": {},
     "output_type": "execute_result"
    }
   ],
   "source": [
    "# На 90% уровне доверия:\n",
    "confidence_interval_t(0.1, 400,15,2000)"
   ],
   "metadata": {
    "collapsed": false,
    "pycharm": {
     "name": "#%%\n"
    }
   }
  },
  {
   "cell_type": "code",
   "execution_count": 19,
   "outputs": [
    {
     "data": {
      "text/plain": "(1778.4873833741433, 2221.5126166258565)"
     },
     "execution_count": 19,
     "metadata": {},
     "output_type": "execute_result"
    }
   ],
   "source": [
    "# На 95% уровне доверия:\n",
    "confidence_interval_t(0.05, 400,15,2000)"
   ],
   "metadata": {
    "collapsed": false,
    "pycharm": {
     "name": "#%%\n"
    }
   }
  },
  {
   "cell_type": "code",
   "execution_count": 20,
   "outputs": [
    {
     "data": {
      "text/plain": "(1692.553004440083, 2307.446995559917)"
     },
     "execution_count": 20,
     "metadata": {},
     "output_type": "execute_result"
    }
   ],
   "source": [
    "## На 99% уровне доверия:\n",
    "confidence_interval_t(0.01, 400,15,2000)\n"
   ],
   "metadata": {
    "collapsed": false,
    "pycharm": {
     "name": "#%%\n"
    }
   }
  },
  {
   "cell_type": "markdown",
   "source": [
    "## Условия задачи №2\n",
    "Чиновника интересует сумма подоходного налога, выплачиваемого домохозяйствами за год. На случайной выборке из 250 домохозяйств был посчитан средний размер выплаченного налога, и он составил $3540. Также на основании ранее предоставленных данных из налоговой инспекции известно истинное стандартное отклонение величины подоходного налога, равное $1150.\n",
    "Необходимо найти 99% доверительный интервал для истинного среднего значения налоговых выплат за год.\n"
   ],
   "metadata": {
    "collapsed": false,
    "pycharm": {
     "name": "#%% md\n"
    }
   }
  },
  {
   "cell_type": "code",
   "execution_count": 21,
   "outputs": [
    {
     "data": {
      "text/plain": "(3352.6537883505453, 3727.3462116494547)"
     },
     "execution_count": 21,
     "metadata": {},
     "output_type": "execute_result"
    }
   ],
   "source": [
    "confidence_interval_norm(0.01, 1150, 250, 3540)\n",
    "\n"
   ],
   "metadata": {
    "collapsed": false,
    "pycharm": {
     "name": "#%%\n"
    }
   }
  },
  {
   "cell_type": "code",
   "execution_count": 22,
   "outputs": [],
   "source": [
    "df = pd.DataFrame({'X': [1.2, 0.2, 1.6, 1.9, -0.4, 0.5, 1.4, 1.7, 2.5, 1.3 ]})"
   ],
   "metadata": {
    "collapsed": false,
    "pycharm": {
     "name": "#%%\n"
    }
   }
  },
  {
   "cell_type": "code",
   "execution_count": 23,
   "outputs": [
    {
     "data": {
      "text/plain": "1.19"
     },
     "execution_count": 23,
     "metadata": {},
     "output_type": "execute_result"
    }
   ],
   "source": [
    "df.X.mean()"
   ],
   "metadata": {
    "collapsed": false,
    "pycharm": {
     "name": "#%%\n"
    }
   }
  },
  {
   "cell_type": "code",
   "execution_count": 24,
   "outputs": [
    {
     "data": {
      "text/plain": "0.8178630692236935"
     },
     "execution_count": 24,
     "metadata": {},
     "output_type": "execute_result"
    }
   ],
   "source": [
    "np.std(df.X)\n"
   ],
   "metadata": {
    "collapsed": false,
    "pycharm": {
     "name": "#%%\n"
    }
   }
  },
  {
   "cell_type": "code",
   "execution_count": 25,
   "outputs": [
    {
     "data": {
      "text/plain": "10"
     },
     "execution_count": 25,
     "metadata": {},
     "output_type": "execute_result"
    }
   ],
   "source": [
    "len(df.X)"
   ],
   "metadata": {
    "collapsed": false,
    "pycharm": {
     "name": "#%%\n"
    }
   }
  },
  {
   "cell_type": "code",
   "execution_count": 26,
   "outputs": [
    {
     "data": {
      "text/plain": "(0.6055534078367484, 1.7744465921632515)"
     },
     "execution_count": 26,
     "metadata": {},
     "output_type": "execute_result"
    }
   ],
   "source": [
    "confidence_interval_t(0.05, 0.817,10, 1.19)"
   ],
   "metadata": {
    "collapsed": false,
    "pycharm": {
     "name": "#%%\n"
    }
   }
  },
  {
   "cell_type": "markdown",
   "source": [
    "## Условия задачи №1\n",
    "\n",
    "Чтобы оценить удовлетворенность клиентов сети отелей, менеджер взял случайную выборку из  комментариев, оставленных посетителями на онлайн-платформе по бронированию, и провел анализ их содержания. Выяснилось, что  комментария были положительными, остальные — негативными.\n",
    "Давайте поможем менеджеру ответить на несколько вопросов!"
   ],
   "metadata": {
    "collapsed": false,
    "pycharm": {
     "name": "#%% md\n"
    }
   }
  },
  {
   "cell_type": "code",
   "execution_count": 27,
   "outputs": [
    {
     "data": {
      "text/plain": "0.698"
     },
     "execution_count": 27,
     "metadata": {},
     "output_type": "execute_result"
    }
   ],
   "source": [
    "p = round(132/189,3)\n",
    "p"
   ],
   "metadata": {
    "collapsed": false,
    "pycharm": {
     "name": "#%%\n"
    }
   }
  },
  {
   "cell_type": "code",
   "execution_count": 28,
   "outputs": [
    {
     "data": {
      "text/plain": "2.575829303548901"
     },
     "execution_count": 28,
     "metadata": {},
     "output_type": "execute_result"
    }
   ],
   "source": [
    "Z = -norm.ppf(0.005)\n",
    "Z\n"
   ],
   "metadata": {
    "collapsed": false,
    "pycharm": {
     "name": "#%%\n"
    }
   }
  },
  {
   "cell_type": "markdown",
   "source": [
    "## 3.8.2 Задание 2\n",
    "Найдите 90 %-ный доверительный интервал для истинной пропорции положительных комментариев.\n",
    "Ответ введите с точностью до трех знаков после разделительной точки.\n"
   ],
   "metadata": {
    "collapsed": false,
    "pycharm": {
     "name": "#%% md\n"
    }
   }
  },
  {
   "cell_type": "code",
   "execution_count": 29,
   "outputs": [
    {
     "name": "stdout",
     "output_type": "stream",
     "text": [
      "0.612 0.784\n"
     ]
    }
   ],
   "source": [
    "from scipy.stats import t\n",
    "import math\n",
    "p = round(132/189,3)\n",
    "Z = -norm.ppf(0.005)\n",
    "n = (p*(1-p))/189\n",
    "value = Z * math.sqrt(n)\n",
    "print('{:0.3f} {:0.3f}'.format(p - value, p + value))\n"
   ],
   "metadata": {
    "collapsed": false,
    "pycharm": {
     "name": "#%%\n"
    }
   }
  },
  {
   "cell_type": "markdown",
   "source": [
    "# 3.9. Находим z-критическое и t-критическое\n",
    "Найти значение любого -критического можно самостоятельно в Python, используя функцию norm.ppf(). Импортируем необходимую для этого библиотеку:\n"
   ],
   "metadata": {
    "collapsed": false,
    "pycharm": {
     "name": "#%% md\n"
    }
   }
  },
  {
   "cell_type": "code",
   "execution_count": 30,
   "outputs": [],
   "source": [
    "from scipy.stats import norm\n"
   ],
   "metadata": {
    "collapsed": false,
    "pycharm": {
     "name": "#%%\n"
    }
   }
  },
  {
   "cell_type": "code",
   "execution_count": 31,
   "outputs": [
    {
     "data": {
      "text/plain": "1.9599639845400545"
     },
     "execution_count": 31,
     "metadata": {},
     "output_type": "execute_result"
    }
   ],
   "source": [
    "# Самый простой способ — найти и получить ответ как\n",
    "α = 0.05 # 1-95%\n",
    "-norm.ppf(α/2)"
   ],
   "metadata": {
    "collapsed": false,
    "pycharm": {
     "name": "#%%\n"
    }
   }
  },
  {
   "cell_type": "markdown",
   "source": [
    "Например, если уровень доверия 1- α равен 97% , значит α/2=0.015.  Тогда мы найдем Z(α/2) как:\n"
   ],
   "metadata": {
    "collapsed": false,
    "pycharm": {
     "name": "#%% md\n"
    }
   }
  },
  {
   "cell_type": "code",
   "execution_count": 32,
   "outputs": [],
   "source": [
    "f = -norm.ppf(0.015)"
   ],
   "metadata": {
    "collapsed": false,
    "pycharm": {
     "name": "#%%\n"
    }
   }
  },
  {
   "cell_type": "code",
   "execution_count": 33,
   "outputs": [
    {
     "name": "stdout",
     "output_type": "stream",
     "text": [
      "2.1700903775845606\n"
     ]
    }
   ],
   "source": [
    "alpha = 0.03\n",
    "value = -norm.ppf(alpha/2)\n",
    "print(value)"
   ],
   "metadata": {
    "collapsed": false,
    "pycharm": {
     "name": "#%%\n"
    }
   }
  },
  {
   "cell_type": "markdown",
   "source": [
    "Функция norm.ppf(x) возвращает значение Zкрит, левее (ниже) которого лежит доля X левого хвоста стандартного\n",
    "нормального распределения. Выражение norm.ppf(α/2) вернёт Z(α/2), то есть значение Zкрит, ниже которого α/2 всех\n",
    "значений стандартного нормального распределения. Это число отрицательное, мы берем его со знаком минус,\n",
    "чтобы получить Z(α/2)\n",
    "\n",
    "Также можно находить значения t-критического\n",
    "\n",
    "при помощи функции t.ppf((1+p)/2, k). Первый аргумент — уровень доверия , а второй — количество степеней\n",
    "свободы , рассчитываемое как .\n",
    "\n",
    "Например, если нужно построить 95%-ный доверительный интервал для среднего с использованием выборки\n",
    "размером в наблюдений, когда sigma неизвестна, то t(α/2)(k) можно найти через:"
   ],
   "metadata": {
    "collapsed": false,
    "pycharm": {
     "name": "#%% md\n"
    }
   }
  },
  {
   "cell_type": "code",
   "execution_count": 34,
   "outputs": [
    {
     "name": "stdout",
     "output_type": "stream",
     "text": [
      "1.9842169515086827\n"
     ]
    }
   ],
   "source": [
    "# 0.95 - доверительный интервал, 100-1 число степеней свободы\n",
    "# для двустороннего t-теста\n",
    "value = t.ppf((1 + 0.95)/2, 100-1)\n",
    "print(value) # 1.98"
   ],
   "metadata": {
    "collapsed": false,
    "pycharm": {
     "name": "#%%\n"
    }
   }
  },
  {
   "cell_type": "markdown",
   "source": [
    "3.9.1 Задание 1\n",
    "\n",
    "Найдите z-критическое для интервала с уровнем доверия 93 %. Укажите с точностью до 2 знаков после разделительной точки.\n",
    "нет ответа"
   ],
   "metadata": {
    "collapsed": false,
    "pycharm": {
     "name": "#%% md\n"
    }
   }
  },
  {
   "cell_type": "code",
   "execution_count": 35,
   "outputs": [
    {
     "name": "stdout",
     "output_type": "stream",
     "text": [
      "1.81\n"
     ]
    }
   ],
   "source": [
    "alpha = 0.07\n",
    "value = -norm.ppf(alpha/2)\n",
    "print('{:0.2f}'.format(value)) #"
   ],
   "metadata": {
    "collapsed": false,
    "pycharm": {
     "name": "#%%\n"
    }
   }
  },
  {
   "cell_type": "markdown",
   "source": [
    "# 3.9.2 Задание 2\n",
    "Найдите критические значения для следующих доверительных интервалов (ответ укажите с точностью до двух знаков после\n",
    "разделительной точки):\n",
    "\n"
   ],
   "metadata": {
    "collapsed": false,
    "pycharm": {
     "name": "#%% md\n"
    }
   }
  },
  {
   "cell_type": "markdown",
   "source": [
    "1. Доверительный интервал для среднего нормально распределённой величины µ,\n",
    "на выборке размером n=10, если σ известна, на 99 % уровне доверия"
   ],
   "metadata": {
    "collapsed": false,
    "pycharm": {
     "name": "#%% md\n"
    }
   }
  },
  {
   "cell_type": "code",
   "execution_count": 36,
   "outputs": [
    {
     "name": "stdout",
     "output_type": "stream",
     "text": [
      "3.25\n"
     ]
    }
   ],
   "source": [
    "# 0.99 - доверительный интервал, 10-1 число степеней свободы\n",
    "# для двустороннего t-теста\n",
    "value = t.ppf((1 + 0.99)/2, 10-1)\n",
    "print('{:0.2f}'.format(value))# 1.98"
   ],
   "metadata": {
    "collapsed": false,
    "pycharm": {
     "name": "#%%\n"
    }
   }
  },
  {
   "cell_type": "markdown",
   "source": [
    "2. Доверительный интервал для среднего нормально распределённой величины µ, на выборке размером n=10 ,\n",
    "если σ неизвестна, на 99% уровне доверия\n",
    "\n"
   ],
   "metadata": {
    "collapsed": false,
    "pycharm": {
     "name": "#%% md\n"
    }
   }
  },
  {
   "cell_type": "code",
   "execution_count": 37,
   "outputs": [
    {
     "name": "stdout",
     "output_type": "stream",
     "text": [
      "3.25\n"
     ]
    }
   ],
   "source": [
    "# 0.99 - доверительный интервал, 100-1 число степеней свободы\n",
    "# для двустороннего t-теста\n",
    "value = t.ppf((1 + 0.99)/2, 10-1)\n",
    "print('{:0.2f}'.format(value))"
   ],
   "metadata": {
    "collapsed": false,
    "pycharm": {
     "name": "#%%\n"
    }
   }
  },
  {
   "cell_type": "markdown",
   "source": [
    "3. Доверительный интервал для среднего µ, на выборке размером n=100, σ неизвестна, на 95% уровне доверия\n"
   ],
   "metadata": {
    "collapsed": false,
    "pycharm": {
     "name": "#%% md\n"
    }
   }
  },
  {
   "cell_type": "code",
   "execution_count": 38,
   "outputs": [
    {
     "name": "stdout",
     "output_type": "stream",
     "text": [
      "2.26\n"
     ]
    }
   ],
   "source": [
    "# 0.95 - доверительный интервал, 100-1 число степеней свободы\n",
    "# для двустороннего t-теста\n",
    "value = t.ppf((1 + 0.95)/2, 10-1)\n",
    "print('{:0.2f}'.format(value))# 1.98\n"
   ],
   "metadata": {
    "collapsed": false,
    "pycharm": {
     "name": "#%%#%%\n"
    }
   }
  },
  {
   "cell_type": "markdown",
   "source": [
    "## Задание 4.7.1\n",
    "Производитель аккумуляторных батарей заявляет, что средний срок службы батарейки АА составляет 14 месяцев. Вы подозреваете,\n",
    "что на самом деле это число преувеличено.\n",
    "\n",
    "Чтобы проверить утверждение производителя, вы взяли случайную выборку из 64 батареек и посчитали выборочное среднее — 13.5\n",
    "месяцев. Известно, что срок службы батарейки имеет стандартное отклонение 2 месяца. Для тестирования гипотезы используйте\n",
    "уровень значимости 0.05.\n",
    "\n",
    "Обратите внимание, что как постановка альтернативной гипотезы, так и выбор уровня значимости  может повлиять на вывод,\n",
    "который вы делаете в результате тестирования гипотезы.\n"
   ],
   "metadata": {
    "collapsed": false,
    "pycharm": {
     "name": "#%% md\n"
    }
   }
  },
  {
   "cell_type": "markdown",
   "source": [
    "1.Формулируем основную\n",
    "H0 µ = 14\n",
    "и альтернативную гипотезу\n",
    "Ha µ < 14\n",
    "2.Собираем наблюдения\n",
    "X распределен нормально, а выборка случайная и большая\n",
    "n = 64, Xs = 13.5, σ = 2 X~N a\n",
    "\n",
    "Шаг 3. Мысленный эксперимент, ожидаемое распределение\n",
    "\n",
    "Шаг 4. Посчитать Z и p-value\n",
    "\n",
    "Шаг 5. Сравнить p-value с  и сделать вывод\n",
    "\n"
   ],
   "metadata": {
    "collapsed": false,
    "pycharm": {
     "name": "#%% md\n"
    }
   }
  },
  {
   "cell_type": "code",
   "execution_count": 39,
   "outputs": [
    {
     "name": "stdout",
     "output_type": "stream",
     "text": [
      "-2.00 0.023\n"
     ]
    }
   ],
   "source": [
    "n = 64\n",
    "Xs = 13.5\n",
    "Mu = 14\n",
    "σ = 2\n",
    "α = 0.05\n",
    "\n",
    "Z = (Xs - Mu)/(σ/math.sqrt(n))\n",
    "p_value = norm.cdf(Z)\n",
    "print('{:0.2f} {:0.3f}'.format(Z, p_value))\n",
    "# p_value < α Значит гипотеза 0 не верная"
   ],
   "metadata": {
    "collapsed": false,
    "pycharm": {
     "name": "#%%\n"
    }
   }
  },
  {
   "cell_type": "markdown",
   "source": [
    "## Задание 4.7.5\n",
    "\n",
    "На упаковке муки указана ее масса — 455 г. Известно, что масса муки в упаковке распределена приблизительно нормально,\n",
    " и что ее стандартное отклонение составляет 12.5  граммов. В случайной выборке из 16 упаковок средняя масса составила\n",
    " 449 граммов.\n",
    "Протестируйте на уровне значимости 5% нулевую гипотезу о том, что средняя масса упаковки с мукой составляет  граммов."
   ],
   "metadata": {
    "collapsed": false,
    "pycharm": {
     "name": "#%% md\n"
    }
   }
  },
  {
   "cell_type": "code",
   "execution_count": 40,
   "outputs": [
    {
     "name": "stdout",
     "output_type": "stream",
     "text": [
      "-1.92 0.055\n"
     ]
    }
   ],
   "source": [
    "# Альтернативная гипотеза, что Mu != 455\n",
    "n = 16\n",
    "Xs = 449\n",
    "Mu = 455\n",
    "σ = 12.5\n",
    "α = 0.05\n",
    "Z = (Xs - Mu)/(σ/math.sqrt(n))\n",
    "p_value = norm.cdf(Z)*2\n",
    "print('{:0.2f} {:0.3f}'.format(Z, p_value))\n",
    "# p_value > α Таким образом, мы не отвергли Но"
   ],
   "metadata": {
    "collapsed": false,
    "pycharm": {
     "name": "#%%\n"
    }
   }
  },
  {
   "cell_type": "markdown",
   "source": [
    "## Задание 4.7.7\n",
    "\n",
    "Вы заподозрили, что производитель сознательно завышает количество граммов, указанное на упаковке, в то время как на\n",
    "самом деле средняя масса ниже. Сформулируйте соответствующую альтернативную гипотезу и протестируйте ее.\n",
    "\n",
    "Чему в таком случае равно значение p-value? Ответ округлите до 3 знаков после разделительной точки."
   ],
   "metadata": {
    "collapsed": false,
    "pycharm": {
     "name": "#%% md\n"
    }
   }
  },
  {
   "cell_type": "code",
   "execution_count": 41,
   "outputs": [
    {
     "name": "stdout",
     "output_type": "stream",
     "text": [
      "-1.92 0.027\n"
     ]
    }
   ],
   "source": [
    "p_value = norm.cdf(Z)\n",
    "print('{:0.2f} {:0.3f}'.format(Z, p_value))"
   ],
   "metadata": {
    "collapsed": false,
    "pycharm": {
     "name": "#%%\n"
    }
   }
  },
  {
   "cell_type": "markdown",
   "source": [
    "# 4.8. Практика. z-статистика и t-статистика\n",
    "\n",
    "Чтобы найти p-value для z-статистики, применяйте функцию norm.cdf(). Используйте импорт:\n"
   ],
   "metadata": {
    "collapsed": false,
    "pycharm": {
     "name": "#%% md\n"
    }
   }
  },
  {
   "cell_type": "code",
   "execution_count": 42,
   "outputs": [],
   "source": [
    "from scipy.stats import norm"
   ],
   "metadata": {
    "collapsed": false,
    "pycharm": {
     "name": "#%%\n"
    }
   }
  },
  {
   "cell_type": "markdown",
   "source": [
    "Чтобы использовать t, импортируйте:\n"
   ],
   "metadata": {
    "collapsed": false,
    "pycharm": {
     "name": "#%% md\n"
    }
   }
  },
  {
   "cell_type": "code",
   "execution_count": 43,
   "outputs": [],
   "source": [
    "from scipy.stats import t\n",
    "\n"
   ],
   "metadata": {
    "collapsed": false,
    "pycharm": {
     "name": "#%%\n"
    }
   }
  },
  {
   "cell_type": "markdown",
   "source": [
    "Чтобы найти p-value для t-статистики, применяйте одну из функций:\n",
    "\n",
    "t.cdf(), если в альтернативной гипотезе стоит знак <; эта функция находит площадь под «левым хвостом» на графике плотности\n",
    "распределения Стьюдента — площадь под кривой слева от заданной точки;\n",
    "\n",
    "1 - t.cdf(), если в альтернативной гипотезе стоит знак >; эта функция находит площадь под «правым хвостом» на графике\n",
    "плотности распределения Стьюдента — площадь под кривой справа от заданной точки. Вместо этой функции можно использовать\n",
    "метод t.sf() = 1 - t.cdf().\n",
    "(1 - t.cdf()) * 2, если в альтернативной гипотезе стоит знак ≠; эта функция считает площадь под правым хвостом. Первый\n",
    "аргумент следует взять по модулю 2*(1 -t.cdf(abs(x), df).\n",
    "Функция scipy.stats.t.cdf() имеет два обязательных позиционных аргумента: x и df. Количество степеней свободы df — находим\n",
    "как k = (n-1).\n",
    "\n"
   ],
   "metadata": {
    "collapsed": false,
    "pycharm": {
     "name": "#%% md\n"
    }
   }
  },
  {
   "cell_type": "markdown",
   "source": [
    "## Задание 4.8\n",
    "Производитель утверждает, что новая модель кондиционера для воздуха потребляет только 6.5 кВт⋅ч электричества в день. Однако\n",
    "в союзе потребителей убеждены, что истинное среднее количество потребляемой энергии выше этого значения.\n",
    "\n",
    "Союз проводит собственное исследование на основании случайной выборки в 25 кондиционеров и находит, что выборочное\n",
    "среднее значение равно 7 кВт⋅ч. Известно, что количество потребляемой кондиционером энергии распределено нормально и\n",
    "его истинное стандартное отклонение равно 1.4 кВт⋅ч.\n",
    "\n"
   ],
   "metadata": {
    "collapsed": false,
    "pycharm": {
     "name": "#%% md\n"
    }
   }
  },
  {
   "cell_type": "code",
   "execution_count": 44,
   "outputs": [
    {
     "name": "stdout",
     "output_type": "stream",
     "text": [
      "-1.79 0.037\n"
     ]
    }
   ],
   "source": [
    "n = 25\n",
    "Xs = 6.5\n",
    "Mu = 7\n",
    "σ = 1.4\n",
    "α = 0.05\n",
    "Z = (Xs - Mu)/(σ/math.sqrt(n))\n",
    "p_value = norm.cdf(Z)\n",
    "print('{:0.2f} {:0.3f}'.format(Z, p_value))"
   ],
   "metadata": {
    "collapsed": false,
    "pycharm": {
     "name": "#%%\n"
    }
   }
  },
  {
   "cell_type": "markdown",
   "source": [
    "## Задание 4.8.4\n",
    "Региональные власти утверждают, что средний годовой доход домохозяйства составляет $12000. Экономист, подозревая, что истинный\n",
    "средний доход может быть меньше, находит на случайной выборке из 135 домохозяйств этого региона, что средний доход равен\n",
    " $11500, а стандартное отклонение равно $5110.\n"
   ],
   "metadata": {
    "collapsed": false,
    "pycharm": {
     "name": "#%% md\n"
    }
   }
  },
  {
   "cell_type": "code",
   "execution_count": 45,
   "outputs": [
    {
     "name": "stdout",
     "output_type": "stream",
     "text": [
      "-1.137 0.128\n"
     ]
    }
   ],
   "source": [
    "n = 135\n",
    "Xs = 11500\n",
    "Mu = 12000\n",
    "σ = 5110\n",
    "α = 0.05\n",
    "Z = (Xs - Mu)/(σ/math.sqrt(n))\n",
    "p_value = norm.cdf(Z)\n",
    "print('{:0.3f} {:0.3f}'.format(Z, p_value))"
   ],
   "metadata": {
    "collapsed": false,
    "pycharm": {
     "name": "#%%\n"
    }
   }
  },
  {
   "cell_type": "markdown",
   "source": [
    "## Задача 3. Условия\n",
    "\n",
    "Сотрудники компании, специализирующейся на продаже франшиз, заявляют, что процент возврата на инвестиции в проданные ими\n",
    "франшизы уже в первый год составляет 10 (все дальнейшие значения приведены в процентах, их можно игнорировать как единицы\n",
    "измерения). Была взята выборка из 10 различных сделок данной компании и рассчитан процент возврата на инвестиции в первый\n",
    "год в каждой из них. Значения приведены в таблице ниже:\n",
    "\n",
    "6.1;\t9.2;\t11.5;\t8.6;\t12.1;\t3.9;\t8.4;\t10.1;\t9.4;\t8.9\n",
    "Вы хотите проверить достоверность заявления, сделанного компанией, подозревая, что на самом деле средний процент\n",
    "возврата на инвестиции в первый год ниже 10. Чтобы протестировать соответствующую гипотезу, сначала рассчитайте в Python\n",
    "значение среднего и стандартного отклонения.\n"
   ],
   "metadata": {
    "collapsed": false,
    "pycharm": {
     "name": "#%% md\n",
     "is_executing": true
    }
   }
  },
  {
   "cell_type": "code",
   "execution_count": 46,
   "outputs": [],
   "source": [
    "df = pd.DataFrame({\n",
    "'X':[1,2,3,4, 5, 6, 7,8,9,10],\n",
    "'P':[6.1, 9.2, 11.5, 8.6, 12.1, 3.9, 8.4, 10.1, 9.4, 8.9]\n",
    "})"
   ],
   "metadata": {
    "collapsed": false,
    "pycharm": {
     "name": "#%%\n"
    }
   }
  },
  {
   "cell_type": "code",
   "execution_count": 47,
   "outputs": [
    {
     "name": "stdout",
     "output_type": "stream",
     "text": [
      "-0.124 0.452\n"
     ]
    }
   ],
   "source": [
    "from scipy.stats import t\n",
    "\n",
    "df.P = df.P/100\n",
    "p0 = 0.1\n",
    "n = 10\n",
    "p1 = df.P.mean()\n",
    "\n",
    "Zst=(p1-p0)/math.sqrt((p0*(1-p0)/n))\n",
    "\n",
    "p_value = t.cdf(Zst, df=n-1)\n",
    "\n",
    "print('{:0.3f} {:0.3f}'.format(Zst, p_value))"
   ],
   "metadata": {
    "collapsed": false,
    "pycharm": {
     "name": "#%%\n"
    }
   }
  },
  {
   "cell_type": "markdown",
   "source": [
    "p-value>0.05, поэтому мы не можем опровергнуть заявление компании верно\n",
    "\n"
   ],
   "metadata": {
    "collapsed": false,
    "pycharm": {
     "name": "#%% md\n"
    }
   }
  },
  {
   "cell_type": "markdown",
   "source": [
    "## 4.10. Практика\n",
    "\n",
    "Представитель профсоюза утверждает, что 75 % сотрудников готовы присоединиться к забастовке, если их требования не\n",
    "будут удовлетворены. Сотрудник компании, ведущий переговоры с профсоюзом, считает, что эта пропорция сильно преувеличена.\n",
    "Он решает проверить утверждение представителя профсоюза, используя уровень значимости 5%. Таким образом, ему надо\n",
    "протестировать следующий набор гипотез: H0 :p = 0.75, HA: p< 0.75\n",
    "В выборке из 125 сотрудников 87 ответили, что будут готовы поддержать забастовку в случае неудовлетворения требования профсоюза."
   ],
   "metadata": {
    "collapsed": false,
    "pycharm": {
     "name": "#%% md\n"
    }
   }
  },
  {
   "cell_type": "code",
   "execution_count": 48,
   "outputs": [
    {
     "name": "stdout",
     "output_type": "stream",
     "text": [
      "-1.394 0.083\n"
     ]
    }
   ],
   "source": [
    "p0 = 0.75\n",
    "n = 125\n",
    "n1 = 87\n",
    "p1 = 87/125\n",
    "\n",
    "Zst=(p1-p0)/math.sqrt((p0*(1-p0)/n))\n",
    "\n",
    "p_value = t.cdf(Zst, n-1)\n",
    "\n",
    "print('{:0.3f} {:0.3f}'.format(Zst, p_value))"
   ],
   "metadata": {
    "collapsed": false,
    "pycharm": {
     "name": "#%%\n"
    }
   }
  },
  {
   "cell_type": "markdown",
   "source": [
    "Zst верно,\n",
    "\n",
    "p_value не верно"
   ],
   "metadata": {
    "collapsed": false,
    "pycharm": {
     "name": "#%% md\n"
    }
   }
  },
  {
   "cell_type": "code",
   "execution_count": 53,
   "outputs": [
    {
     "name": "stdout",
     "output_type": "stream",
     "text": [
      "Collecting statsmodels\n",
      "  Downloading statsmodels-0.12.2-cp38-none-win_amd64.whl (9.4 MB)\n",
      "Requirement already satisfied: scipy>=1.1 in c:\\users\\asyac\\appdata\\local\\programs\\python\\python38\\lib\\site-packages (from statsmodels) (1.6.1)\n",
      "Requirement already satisfied: pandas>=0.21 in c:\\users\\asyac\\appdata\\local\\programs\\python\\python38\\lib\\site-packages (from statsmodels) (1.2.2)\n",
      "Requirement already satisfied: numpy>=1.15 in c:\\users\\asyac\\appdata\\local\\programs\\python\\python38\\lib\\site-packages (from statsmodels) (1.20.1)\n",
      "Collecting patsy>=0.5\n",
      "  Downloading patsy-0.5.1-py2.py3-none-any.whl (231 kB)\n",
      "Requirement already satisfied: pytz>=2017.3 in c:\\users\\asyac\\appdata\\local\\programs\\python\\python38\\lib\\site-packages (from pandas>=0.21->statsmodels) (2021.1)\n",
      "Requirement already satisfied: python-dateutil>=2.7.3 in c:\\users\\asyac\\appdata\\local\\programs\\python\\python38\\lib\\site-packages (from pandas>=0.21->statsmodels) (2.8.1)\n",
      "Requirement already satisfied: six in c:\\users\\asyac\\appdata\\local\\programs\\python\\python38\\lib\\site-packages (from patsy>=0.5->statsmodels) (1.15.0)\n",
      "Installing collected packages: patsy, statsmodels\n",
      "Successfully installed patsy-0.5.1 statsmodels-0.12.2\n",
      "Note: you may need to restart the kernel to use updated packages.\n"
     ]
    },
    {
     "name": "stderr",
     "output_type": "stream",
     "text": [
      "WARNING: You are using pip version 20.2.1; however, version 21.0.1 is available.\n",
      "You should consider upgrading via the 'c:\\users\\asyac\\appdata\\local\\programs\\python\\python38\\python.exe -m pip install --upgrade pip' command.\n"
     ]
    }
   ],
   "source": [
    "pip install statsmodels"
   ],
   "metadata": {
    "collapsed": false,
    "pycharm": {
     "name": "#%%\n"
    }
   }
  },
  {
   "cell_type": "code",
   "execution_count": 54,
   "outputs": [],
   "source": [
    "from statsmodels.stats import weightstats"
   ],
   "metadata": {
    "collapsed": false,
    "pycharm": {
     "name": "#%%\n"
    }
   }
  },
  {
   "cell_type": "markdown",
   "source": [
    "Чтобы сделать тест z-test, нужно использовать weightstats.CompareMeans.ztest_ind():\n",
    "\n",
    "weightstats.CompareMeans.ztest_ind() – для формулы ниже. Используется крайне редко, только если известны истинные\n",
    "стандартные отклонения.\n",
    "\n",
    "Чтобы сделать тест t-test, нужно использовать weightstats.ttest_ind():\n",
    "\n",
    "weightstats.ttest_ind() – для вот этой формулы:\n",
    "Параметры\n",
    "Функции weightstats.CompareMeans.ztest_ind() и weightstats.ttest_ind() принимают на вход одни и те же параметры. Чтобы посчитать разность средних двух наборов данных, необходимо передать на вход функции два аргумента:  и . Где:\n",
    "\n",
    " — первый набор данных;\n",
    " — второй набор данных;\n",
    "Дополнительный параметр usevar может принимать два значения. Если usevar = 'pooled', то стандартное отклонение образцов считается одинаковым. Если usevar ='unequal', то стандартные отклонения образцов могут быть разными.\n",
    "\n",
    "Функции weightstats.CompareMeans.ztest_ind() и weightstats.ttest_ind() возвращают:\n",
    "\n",
    "значение t (или z)-статистики;\n",
    "значение p-value;\n",
    "значение степеней свободы.\n"
   ],
   "metadata": {
    "collapsed": false,
    "pycharm": {
     "name": "#%% md\n"
    }
   }
  },
  {
   "cell_type": "code",
   "execution_count": 55,
   "outputs": [],
   "source": [
    "import pandas as pd\n",
    "df = pd.DataFrame({\n",
    "    'x': [6.1, 9.2, 11.5, 8.6, 12.1, 3.9, 8.4, 10.1, 9.4, 8.9],\n",
    "    'y': [7.3, 8.7, 12.6, 6.8, 12, 6.9, 10.2, 17.1, 9.2, 11.6]\n",
    "})\n"
   ],
   "metadata": {
    "collapsed": false,
    "pycharm": {
     "name": "#%%\n"
    }
   }
  },
  {
   "cell_type": "markdown",
   "source": [
    "## 5.6.1 Задание 1\n",
    "\n",
    "Сколько степеней свободы в соответствующем распределении Стьюдента?\n",
    "\n",
    "Примечание: мы не можем сказать, что выборочные отклонения наборов данных одинаковы.\n",
    "Уточните это в парамере usevar при вычислении. При необходимости ответ округлите до целого числа."
   ],
   "metadata": {
    "collapsed": false,
    "pycharm": {
     "name": "#%% md\n"
    }
   }
  },
  {
   "cell_type": "code",
   "execution_count": 62,
   "outputs": [
    {
     "data": {
      "text/plain": "(-1.1204320654469324, 0.2784090399452127, 16.673890238780608)"
     },
     "execution_count": 62,
     "metadata": {},
     "output_type": "execute_result"
    }
   ],
   "source": [
    "weightstats.ttest_ind(df.x, df.y, alternative='two-sided', usevar='unequal')"
   ],
   "metadata": {
    "collapsed": false,
    "pycharm": {
     "name": "#%%\n"
    }
   }
  },
  {
   "cell_type": "markdown",
   "source": [
    "## 5.6.2 Задание 2\n",
    "\n",
    "Укажите значение t-статистики. Ответ округлите до двух знаков после разделительной точки.\n"
   ],
   "metadata": {
    "collapsed": false,
    "pycharm": {
     "name": "#%% md\n"
    }
   }
  },
  {
   "cell_type": "code",
   "execution_count": 65,
   "outputs": [
    {
     "data": {
      "text/plain": "-1.12"
     },
     "execution_count": 65,
     "metadata": {},
     "output_type": "execute_result"
    }
   ],
   "source": [
    "round(-1.1204320654469324,3)"
   ],
   "metadata": {
    "collapsed": false,
    "pycharm": {
     "name": "#%%\n"
    }
   }
  },
  {
   "cell_type": "markdown",
   "source": [
    "## 5.6.3 Задание 3\n",
    "\n",
    "Чему равно значение p-value для тестируемой двусторонней альтернативной гипотезы?\n",
    "Ответ округлите до двух знаков после разделительной точки."
   ],
   "metadata": {
    "collapsed": false,
    "pycharm": {
     "name": "#%% md\n"
    }
   }
  },
  {
   "cell_type": "code",
   "execution_count": 66,
   "outputs": [
    {
     "data": {
      "text/plain": "0.28"
     },
     "execution_count": 66,
     "metadata": {},
     "output_type": "execute_result"
    }
   ],
   "source": [
    "round(0.2784090399452127,2)"
   ],
   "metadata": {
    "collapsed": false,
    "pycharm": {
     "name": "#%%\n"
    }
   }
  },
  {
   "cell_type": "markdown",
   "source": [
    "# 5.7. Распределение разности пропорций\n",
    "H0 : p1=p2 (p1-p2 = 0)\n",
    "Ha : p1>p2"
   ],
   "metadata": {
    "collapsed": false,
    "pycharm": {
     "name": "#%% md\n"
    }
   }
  },
  {
   "cell_type": "code",
   "execution_count": 68,
   "outputs": [],
   "source": [
    "p1= 62/100\n",
    "p2= 29/100\n",
    "n1 = 100\n",
    "n2 = 100"
   ],
   "metadata": {
    "collapsed": false,
    "pycharm": {
     "name": "#%%\n"
    }
   }
  },
  {
   "cell_type": "code",
   "execution_count": 71,
   "outputs": [
    {
     "name": "stdout",
     "output_type": "stream",
     "text": [
      "True True\n",
      "True True\n"
     ]
    }
   ],
   "source": [
    "print(n1*p1>5, n1*(1-p1)>5)\n",
    "print(n2*p2>5, n2*(1-p2)>5)"
   ],
   "metadata": {
    "collapsed": false,
    "pycharm": {
     "name": "#%%\n"
    }
   }
  },
  {
   "cell_type": "code",
   "execution_count": 76,
   "outputs": [
    {
     "name": "stdout",
     "output_type": "stream",
     "text": [
      "4.69 0.000\n"
     ]
    }
   ],
   "source": [
    "p_avg = (p1*n1+p2*n2)/(n1+n2)\n",
    "Z_st = (p1-p2)/(math.sqrt(p_avg*(1-p_avg))*math.sqrt(1/n1+1/n2))\n",
    "p_value = 1 - norm.cdf(Z_st)\n",
    "print('{:0.2f} {:0.3f}'.format(Z_st, p_value))"
   ],
   "metadata": {
    "collapsed": false,
    "pycharm": {
     "name": "#%%\n"
    }
   }
  },
  {
   "cell_type": "code",
   "execution_count": null,
   "outputs": [],
   "source": [],
   "metadata": {
    "collapsed": false,
    "pycharm": {
     "name": "#%%\n"
    }
   }
  }
 ],
 "metadata": {
  "kernelspec": {
   "display_name": "Python 3",
   "language": "python",
   "name": "python3"
  },
  "language_info": {
   "codemirror_mode": {
    "name": "ipython",
    "version": 3
   },
   "file_extension": ".py",
   "mimetype": "text/x-python",
   "name": "python",
   "nbconvert_exporter": "python",
   "pygments_lexer": "ipython3",
   "version": "3.8.5"
  }
 },
 "nbformat": 4,
 "nbformat_minor": 4
}